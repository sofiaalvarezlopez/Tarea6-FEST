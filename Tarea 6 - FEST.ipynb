{
 "cells": [
  {
   "cell_type": "markdown",
   "metadata": {},
   "source": [
    "### María Sofía Álvarez López - 201729031\n",
    "ESAI"
   ]
  },
  {
   "cell_type": "code",
   "execution_count": 1,
   "metadata": {},
   "outputs": [],
   "source": [
    "from scipy.constants import hbar,k,c,sigma\n",
    "from scipy import integrate\n",
    "import numpy as np"
   ]
  },
  {
   "cell_type": "markdown",
   "metadata": {},
   "source": [
    "<h1 align=\"center\">Tarea 6: Física Estadística</h1>"
   ]
  },
  {
   "cell_type": "markdown",
   "metadata": {},
   "source": [
    "### Punto 2c"
   ]
  },
  {
   "cell_type": "markdown",
   "metadata": {},
   "source": [
    "Según la ley de Stefan-Boltzmann, la potencia irradiada por el sol es $$P_S = 4\\pi\\sigma R_s^2 T_s^4$$ donde R_s es el radio del sol y T_s es su temperatura. \n",
    "En este sentido, su potencia irradiada en todas las longitudes de onda (es decir, en todas las frecuencias, será):"
   ]
  },
  {
   "cell_type": "code",
   "execution_count": 30,
   "metadata": {},
   "outputs": [
    {
     "name": "stdout",
     "output_type": "stream",
     "text": [
      "3.1949821684233985e+34 W\n"
     ]
    }
   ],
   "source": [
    "T_s = 5500\n",
    "R_s = 7*(10**12)\n",
    "A_s = 4*np.pi*(R_s**2)\n",
    "P_s = A_s*sigma*(T_s**4)\n",
    "D = 1.5*(10**15)\n",
    "print(P_s, 'W')"
   ]
  },
  {
   "cell_type": "markdown",
   "metadata": {},
   "source": [
    "Ahora, sabemos que la potencia por unidad de área emitida por un cuerpo en un rango de frecuencias $\\omega + \\delta \\omega$ está dado por,$$\\mathcal{P}(\\omega) \\mathrm{d} \\omega = a(\\omega) \\frac{\\hbar}{4\\pi^2c^2}\\frac{\\omega^3 \\mathrm{d} \\omega}{e^{\\beta \\hbar \\omega} - 1}$$\n",
    "Para un cuerpo negro como el sol, $a(\\omega) = 1$. Entonces,\n",
    "$$ \\mathcal{P} =  \\frac{\\hbar}{4\\pi^2c^2} \\int_{0}^{\\omega_0} \\frac{\\omega^3 \\mathrm{d} \\omega}{e^{\\beta \\hbar \\omega} - 1}$$\n",
    "En nuestro caso particular, nos interesa calcular dicha potencia por unidad de área en el rango de frecuencias en infrarrojo (es decir, para $\\omega < \\omega_0$), donde $\\omega_0$ está dado por,"
   ]
  },
  {
   "cell_type": "code",
   "execution_count": 3,
   "metadata": {},
   "outputs": [
    {
     "name": "stdout",
     "output_type": "stream",
     "text": [
      "2510000000000000.0\n"
     ]
    }
   ],
   "source": [
    "omega_0 = 2.51*(10**15)\n",
    "print(omega_0)"
   ]
  },
  {
   "cell_type": "markdown",
   "metadata": {},
   "source": [
    "Una vez calculada dicha potencia por unidad de área, podemos encontrar el porcentaje $x\\%$ de la potencia total emitida por el sol, $P_S$, que se emite en infrarrojo. Para el resto de la radiación emitida, es decir, para $\\omega > \\omega_0$, tendremos que este porcentaje será $100\\% - x\\%$. \n"
   ]
  },
  {
   "cell_type": "markdown",
   "metadata": {},
   "source": [
    "Definimos el $\\beta = \\frac{1}{KT_S}$ del sol como,"
   ]
  },
  {
   "cell_type": "code",
   "execution_count": 4,
   "metadata": {},
   "outputs": [],
   "source": [
    "beta = 1/(k*T_s)"
   ]
  },
  {
   "cell_type": "markdown",
   "metadata": {},
   "source": [
    "Definimos ahora la potencia por unidad de área emitida, e integramos usando la cuadratura Gaussiana de la librería <code>Scipy</code>."
   ]
  },
  {
   "cell_type": "code",
   "execution_count": 5,
   "metadata": {},
   "outputs": [],
   "source": [
    "def P(omega):\n",
    "    return (omega**3)/(np.exp(beta*hbar*omega) - 1)"
   ]
  },
  {
   "cell_type": "code",
   "execution_count": 6,
   "metadata": {},
   "outputs": [
    {
     "name": "stdout",
     "output_type": "stream",
     "text": [
      "8.667043190209251e+59\n"
     ]
    }
   ],
   "source": [
    "resultado_integral = integrate.quad(P, a=0, b=omega_0)[0]\n",
    "print(resultado_integral)"
   ]
  },
  {
   "cell_type": "markdown",
   "metadata": {},
   "source": [
    "Una vez calculada la integral, multiplicamos por el factor $\\hbar/(4\\pi^2 c^2)$ para obtener la potencia por unidad de área que se emite en infrarrojo. Así,"
   ]
  },
  {
   "cell_type": "code",
   "execution_count": 7,
   "metadata": {},
   "outputs": [
    {
     "name": "stdout",
     "output_type": "stream",
     "text": [
      "25760007.152755383\n"
     ]
    }
   ],
   "source": [
    "P_unit_area_IR = resultado_integral*hbar/(4*np.pi**2 * c**2)\n",
    "print(P_unit_area_IR)"
   ]
  },
  {
   "cell_type": "markdown",
   "metadata": {},
   "source": [
    "Como esta es una potencia por unidad de área, debemos multiplicar por el área superficial del sol, $A_s$, con el fin de obtener la potencia que se emite en infrarrojo, $P_{IR}$"
   ]
  },
  {
   "cell_type": "code",
   "execution_count": 8,
   "metadata": {},
   "outputs": [
    {
     "name": "stdout",
     "output_type": "stream",
     "text": [
      "1.5861780048593301e+34\n"
     ]
    }
   ],
   "source": [
    "P_IR = P_unit_area_IR*(4*np.pi*(R_s**2))\n",
    "print(P_IR)"
   ]
  },
  {
   "cell_type": "markdown",
   "metadata": {},
   "source": [
    "Como ya tenemos calculada la potencia total emitida por el sol (en todas las frecuencias) y la potencia emitida por el sol únicamente en el infrarrojo (i.e. para $\\omega < \\omega_0$), podemos encontrar, entonces, el porcentaje de la radiación que el sol emite en infrarrojo. Así, "
   ]
  },
  {
   "cell_type": "code",
   "execution_count": 11,
   "metadata": {},
   "outputs": [
    {
     "name": "stdout",
     "output_type": "stream",
     "text": [
      "49.646 % es el porcentaje de radiación que el sol emite en el Infrarrojo.\n"
     ]
    }
   ],
   "source": [
    "porcentaje_IR = P_IR*100/P_s\n",
    "print(np.round(porcentaje_IR,3), \"% es el porcentaje de radiación que el sol emite en el Infrarrojo.\")"
   ]
  },
  {
   "cell_type": "markdown",
   "metadata": {},
   "source": [
    "En este sentido, como solamente nos queda el rango de frecuencias $\\omega > \\omega_0$ (que es el porcentaje de radiación absorbida en el espectro visibl y ultravioleta), tenemos fácilmente que el porcentaje de radiación emitida en dicha región del espectro será,"
   ]
  },
  {
   "cell_type": "code",
   "execution_count": 12,
   "metadata": {},
   "outputs": [
    {
     "name": "stdout",
     "output_type": "stream",
     "text": [
      "50.354 % es el porcentaje de radiación que el sol emite en el Infrarrojo.\n"
     ]
    }
   ],
   "source": [
    "porcentaje_UV_vis = 100 - porcentaje_IR\n",
    "print(np.round(porcentaje_UV_vis, 3), \"% es el porcentaje de radiación que el sol emite en el Infrarrojo.\")"
   ]
  }
 ],
 "metadata": {
  "kernelspec": {
   "display_name": "Python 3",
   "language": "python",
   "name": "python3"
  },
  "language_info": {
   "codemirror_mode": {
    "name": "ipython",
    "version": 3
   },
   "file_extension": ".py",
   "mimetype": "text/x-python",
   "name": "python",
   "nbconvert_exporter": "python",
   "pygments_lexer": "ipython3",
   "version": "3.8.3"
  }
 },
 "nbformat": 4,
 "nbformat_minor": 4
}
